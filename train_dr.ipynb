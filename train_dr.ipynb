{
 "cells": [
  {
   "cell_type": "code",
   "execution_count": 1,
   "metadata": {},
   "outputs": [],
   "source": [
    "import keras\n",
    "from keras.datasets import mnist\n",
    "import tensorflow as tf"
   ]
  },
  {
   "cell_type": "code",
   "execution_count": 2,
   "metadata": {},
   "outputs": [
    {
     "name": "stdout",
     "output_type": "stream",
     "text": [
      "(60000, 28, 28) (60000,)\n"
     ]
    }
   ],
   "source": [
    "#loading the data\n",
    "(x_train, y_train), (x_test, y_test) = mnist.load_data()\n",
    "print(x_train.shape, y_train.shape)"
   ]
  },
  {
   "cell_type": "code",
   "execution_count": 3,
   "metadata": {},
   "outputs": [
    {
     "name": "stdout",
     "output_type": "stream",
     "text": [
      "x_train shape: (60000, 28, 28, 1)\n",
      "60000 train samples\n",
      "10000 test samples\n"
     ]
    }
   ],
   "source": [
    "#preprocessing\n",
    "x_train = x_train.reshape(x_train.shape[0], 28, 28, 1)\n",
    "x_test = x_test.reshape(x_test.shape[0], 28, 28, 1)\n",
    "\n",
    "input_shape = (28, 28, 1)\n",
    "\n",
    "#convert class vectors to bonary metrics\n",
    "y_train = tf.keras.utils.to_categorical(y_train, 10)   #10 because there are 10 digits\n",
    "y_test = tf.keras.utils.to_categorical(y_test, 10)\n",
    "\n",
    "x_train = x_train.astype('float32')\n",
    "x_test = x_test.astype('float32')\n",
    "\n",
    "x_train /= 255\n",
    "x_test /= 255\n",
    "\n",
    "print('x_train shape:', x_train.shape)\n",
    "print(x_train.shape[0], 'train samples')\n",
    "print(x_test.shape[0], 'test samples')\n"
   ]
  },
  {
   "cell_type": "code",
   "execution_count": 16,
   "metadata": {},
   "outputs": [],
   "source": [
    "#creating the model\n",
    "batch_size = 128\n",
    "num_classes = 10\n",
    "epochs = 10\n",
    "\n",
    "\n",
    "model = keras.models.Sequential()\n",
    "\n",
    "model.add(keras.layers.Conv2D(filters = 64, kernel_size = (5,5),padding = 'Same', activation ='relu', input_shape = (28,28,1)))\n",
    "model.add(keras.layers.BatchNormalization())\n",
    "\n",
    "model.add(keras.layers.Conv2D(filters = 64, kernel_size = (5,5),padding = 'Same', activation ='relu'))\n",
    "model.add(keras.layers.BatchNormalization())\n",
    "\n",
    "model.add(keras.layers.MaxPool2D(pool_size=(2,2)))\n",
    "model.add(keras.layers.Dropout(0.25))\n",
    "\n",
    "model.add(keras.layers.Conv2D(filters = 64, kernel_size = (3,3),padding = 'Same', activation ='relu'))\n",
    "model.add(keras.layers.BatchNormalization())\n",
    "\n",
    "model.add(keras.layers.Conv2D(filters = 64, kernel_size = (3,3),padding = 'Same', activation ='relu'))\n",
    "model.add(keras.layers.BatchNormalization())\n",
    "model.add(keras.layers.MaxPool2D(pool_size=(2,2), strides=(2,2)))\n",
    "model.add(keras.layers.Dropout(0.25))\n",
    "\n",
    "model.add(keras.layers.Conv2D(filters = 64, kernel_size = (3,3), padding = 'Same',  activation ='relu'))\n",
    "model.add(keras.layers.BatchNormalization())\n",
    "model.add(keras.layers.Dropout(0.25))\n",
    "\n",
    "model.add(keras.layers.Flatten())\n",
    "model.add(keras.layers.Dense(256, activation = \"relu\"))\n",
    "model.add(keras.layers.BatchNormalization())\n",
    "model.add(keras.layers.Dropout(0.25))\n",
    "\n",
    "model.add(keras.layers.Dense(10, activation = \"softmax\"))\n",
    "\n",
    "model.compile(loss= keras.losses.categorical_crossentropy, optimizer= tf.keras.optimizers.Adam(learning_rate=0.1))"
   ]
  },
  {
   "cell_type": "code",
   "execution_count": 12,
   "metadata": {},
   "outputs": [],
   "source": [
    "model.compile(loss= keras.losses.categorical_crossentropy, optimizer= tf.keras.optimizers.Adam(learning_rate=0.1))"
   ]
  },
  {
   "cell_type": "code",
   "execution_count": 17,
   "metadata": {},
   "outputs": [
    {
     "name": "stdout",
     "output_type": "stream",
     "text": [
      "Epoch 1/10\n",
      "469/469 [==============================] - 667s 1s/step - loss: 0.3384 - val_loss: 0.0982\n",
      "Epoch 2/10\n",
      "469/469 [==============================] - 620s 1s/step - loss: 0.2293 - val_loss: 0.3925\n",
      "Epoch 3/10\n",
      "469/469 [==============================] - 630s 1s/step - loss: 0.4068 - val_loss: 0.4078\n",
      "Epoch 4/10\n",
      "469/469 [==============================] - 619s 1s/step - loss: 0.3450 - val_loss: 0.1382\n",
      "Epoch 5/10\n",
      "469/469 [==============================] - 639s 1s/step - loss: 0.3592 - val_loss: 17.7932\n",
      "Epoch 6/10\n",
      "469/469 [==============================] - 631s 1s/step - loss: 0.4884 - val_loss: 1.5598\n",
      "Epoch 7/10\n",
      "469/469 [==============================] - 617s 1s/step - loss: 0.3547 - val_loss: 0.1840\n",
      "Epoch 8/10\n",
      "469/469 [==============================] - 619s 1s/step - loss: 0.1898 - val_loss: 0.0912\n",
      "Epoch 9/10\n",
      "469/469 [==============================] - 613s 1s/step - loss: 0.1432 - val_loss: 0.0571\n",
      "Epoch 10/10\n",
      "469/469 [==============================] - 614s 1s/step - loss: 0.1567 - val_loss: 1.8139\n",
      "model don train finish ooo\n",
      "model saved as mnist.h5\n"
     ]
    }
   ],
   "source": [
    "#training the model\n",
    "hist = model.fit(x_train, y_train, batch_size= batch_size, epochs= epochs, verbose= 1, validation_data= (x_test, y_test))   \n",
    "print('model don train finish ooo')\n",
    "\n",
    "model.save('mnist.h5')\n",
    "print('model saved as mnist.h5')\n"
   ]
  },
  {
   "cell_type": "code",
   "execution_count": 20,
   "metadata": {},
   "outputs": [
    {
     "name": "stdout",
     "output_type": "stream",
     "text": [
      "1.8139170408248901\n",
      "2.304647445678711\n"
     ]
    }
   ],
   "source": [
    "#Evaluating the model\n",
    "score = model.evaluate(x_test, y_test, verbose= 0)\n",
    "print(score)\n"
   ]
  }
 ],
 "metadata": {
  "interpreter": {
   "hash": "c1d2eb1bf98e81a8b7aae280ed6b960a0e400444aa2687b0a9bceb8cbf10c3e5"
  },
  "kernelspec": {
   "display_name": "Python 3.10.4 64-bit (windows store)",
   "language": "python",
   "name": "python3"
  },
  "language_info": {
   "codemirror_mode": {
    "name": "ipython",
    "version": 3
   },
   "file_extension": ".py",
   "mimetype": "text/x-python",
   "name": "python",
   "nbconvert_exporter": "python",
   "pygments_lexer": "ipython3",
   "version": "3.10.4"
  },
  "orig_nbformat": 4
 },
 "nbformat": 4,
 "nbformat_minor": 2
}
